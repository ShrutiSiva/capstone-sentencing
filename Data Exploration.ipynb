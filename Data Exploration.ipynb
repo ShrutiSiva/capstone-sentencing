{
 "cells": [
  {
   "cell_type": "code",
   "execution_count": 2,
   "metadata": {},
   "outputs": [],
   "source": [
    "import pandas as pd\n",
    "import matplotlib.pyplot as plt\n",
    "import seaborn as sns\n",
    "pd.set_option(\"display.max_columns\", 100) \n",
    "%matplotlib inline"
   ]
  },
  {
   "cell_type": "code",
   "execution_count": 3,
   "metadata": {},
   "outputs": [],
   "source": [
    "#ProPublica COMPASS dataset - reached out to congressional staff, nonprofits, etc.\n",
    "#ultimately I found stuff from Kaggle - where they do data science competitions - for the state of Florida"
   ]
  },
  {
   "cell_type": "code",
   "execution_count": 4,
   "metadata": {},
   "outputs": [
    {
     "name": "stdout",
     "output_type": "stream",
     "text": [
      "Shape: (60843, 28)\n"
     ]
    },
    {
     "data": {
      "text/html": [
       "<div>\n",
       "<style scoped>\n",
       "    .dataframe tbody tr th:only-of-type {\n",
       "        vertical-align: middle;\n",
       "    }\n",
       "\n",
       "    .dataframe tbody tr th {\n",
       "        vertical-align: top;\n",
       "    }\n",
       "\n",
       "    .dataframe thead th {\n",
       "        text-align: right;\n",
       "    }\n",
       "</style>\n",
       "<table border=\"1\" class=\"dataframe\">\n",
       "  <thead>\n",
       "    <tr style=\"text-align: right;\">\n",
       "      <th></th>\n",
       "      <th>Person_ID</th>\n",
       "      <th>AssessmentID</th>\n",
       "      <th>Case_ID</th>\n",
       "      <th>Agency_Text</th>\n",
       "      <th>LastName</th>\n",
       "      <th>FirstName</th>\n",
       "      <th>MiddleName</th>\n",
       "      <th>Sex_Code_Text</th>\n",
       "      <th>Ethnic_Code_Text</th>\n",
       "      <th>DateOfBirth</th>\n",
       "      <th>ScaleSet_ID</th>\n",
       "      <th>ScaleSet</th>\n",
       "      <th>AssessmentReason</th>\n",
       "      <th>Language</th>\n",
       "      <th>LegalStatus</th>\n",
       "      <th>CustodyStatus</th>\n",
       "      <th>MaritalStatus</th>\n",
       "      <th>Screening_Date</th>\n",
       "      <th>RecSupervisionLevel</th>\n",
       "      <th>RecSupervisionLevelText</th>\n",
       "      <th>Scale_ID</th>\n",
       "      <th>DisplayText</th>\n",
       "      <th>RawScore</th>\n",
       "      <th>DecileScore</th>\n",
       "      <th>ScoreText</th>\n",
       "      <th>AssessmentType</th>\n",
       "      <th>IsCompleted</th>\n",
       "      <th>IsDeleted</th>\n",
       "    </tr>\n",
       "  </thead>\n",
       "  <tbody>\n",
       "    <tr>\n",
       "      <th>0</th>\n",
       "      <td>50844</td>\n",
       "      <td>57167</td>\n",
       "      <td>51950</td>\n",
       "      <td>PRETRIAL</td>\n",
       "      <td>Fisher</td>\n",
       "      <td>Kevin</td>\n",
       "      <td>NaN</td>\n",
       "      <td>Male</td>\n",
       "      <td>Caucasian</td>\n",
       "      <td>12/05/92</td>\n",
       "      <td>22</td>\n",
       "      <td>Risk and Prescreen</td>\n",
       "      <td>Intake</td>\n",
       "      <td>English</td>\n",
       "      <td>Pretrial</td>\n",
       "      <td>Jail Inmate</td>\n",
       "      <td>Single</td>\n",
       "      <td>1/1/13 0:00</td>\n",
       "      <td>1</td>\n",
       "      <td>Low</td>\n",
       "      <td>7</td>\n",
       "      <td>Risk of Violence</td>\n",
       "      <td>-2.08</td>\n",
       "      <td>4</td>\n",
       "      <td>Low</td>\n",
       "      <td>New</td>\n",
       "      <td>1</td>\n",
       "      <td>0</td>\n",
       "    </tr>\n",
       "    <tr>\n",
       "      <th>1</th>\n",
       "      <td>50844</td>\n",
       "      <td>57167</td>\n",
       "      <td>51950</td>\n",
       "      <td>PRETRIAL</td>\n",
       "      <td>Fisher</td>\n",
       "      <td>Kevin</td>\n",
       "      <td>NaN</td>\n",
       "      <td>Male</td>\n",
       "      <td>Caucasian</td>\n",
       "      <td>12/05/92</td>\n",
       "      <td>22</td>\n",
       "      <td>Risk and Prescreen</td>\n",
       "      <td>Intake</td>\n",
       "      <td>English</td>\n",
       "      <td>Pretrial</td>\n",
       "      <td>Jail Inmate</td>\n",
       "      <td>Single</td>\n",
       "      <td>1/1/13 0:00</td>\n",
       "      <td>1</td>\n",
       "      <td>Low</td>\n",
       "      <td>8</td>\n",
       "      <td>Risk of Recidivism</td>\n",
       "      <td>-1.06</td>\n",
       "      <td>2</td>\n",
       "      <td>Low</td>\n",
       "      <td>New</td>\n",
       "      <td>1</td>\n",
       "      <td>0</td>\n",
       "    </tr>\n",
       "    <tr>\n",
       "      <th>2</th>\n",
       "      <td>50844</td>\n",
       "      <td>57167</td>\n",
       "      <td>51950</td>\n",
       "      <td>PRETRIAL</td>\n",
       "      <td>Fisher</td>\n",
       "      <td>Kevin</td>\n",
       "      <td>NaN</td>\n",
       "      <td>Male</td>\n",
       "      <td>Caucasian</td>\n",
       "      <td>12/05/92</td>\n",
       "      <td>22</td>\n",
       "      <td>Risk and Prescreen</td>\n",
       "      <td>Intake</td>\n",
       "      <td>English</td>\n",
       "      <td>Pretrial</td>\n",
       "      <td>Jail Inmate</td>\n",
       "      <td>Single</td>\n",
       "      <td>1/1/13 0:00</td>\n",
       "      <td>1</td>\n",
       "      <td>Low</td>\n",
       "      <td>18</td>\n",
       "      <td>Risk of Failure to Appear</td>\n",
       "      <td>15.00</td>\n",
       "      <td>1</td>\n",
       "      <td>Low</td>\n",
       "      <td>New</td>\n",
       "      <td>1</td>\n",
       "      <td>0</td>\n",
       "    </tr>\n",
       "  </tbody>\n",
       "</table>\n",
       "</div>"
      ],
      "text/plain": [
       "   Person_ID  AssessmentID  Case_ID Agency_Text LastName FirstName MiddleName  \\\n",
       "0      50844         57167    51950    PRETRIAL   Fisher     Kevin        NaN   \n",
       "1      50844         57167    51950    PRETRIAL   Fisher     Kevin        NaN   \n",
       "2      50844         57167    51950    PRETRIAL   Fisher     Kevin        NaN   \n",
       "\n",
       "  Sex_Code_Text Ethnic_Code_Text DateOfBirth  ScaleSet_ID            ScaleSet  \\\n",
       "0          Male        Caucasian    12/05/92           22  Risk and Prescreen   \n",
       "1          Male        Caucasian    12/05/92           22  Risk and Prescreen   \n",
       "2          Male        Caucasian    12/05/92           22  Risk and Prescreen   \n",
       "\n",
       "  AssessmentReason Language LegalStatus CustodyStatus MaritalStatus  \\\n",
       "0           Intake  English    Pretrial   Jail Inmate        Single   \n",
       "1           Intake  English    Pretrial   Jail Inmate        Single   \n",
       "2           Intake  English    Pretrial   Jail Inmate        Single   \n",
       "\n",
       "  Screening_Date  RecSupervisionLevel RecSupervisionLevelText  Scale_ID  \\\n",
       "0    1/1/13 0:00                    1                     Low         7   \n",
       "1    1/1/13 0:00                    1                     Low         8   \n",
       "2    1/1/13 0:00                    1                     Low        18   \n",
       "\n",
       "                 DisplayText  RawScore  DecileScore ScoreText AssessmentType  \\\n",
       "0           Risk of Violence     -2.08            4       Low            New   \n",
       "1         Risk of Recidivism     -1.06            2       Low            New   \n",
       "2  Risk of Failure to Appear     15.00            1       Low            New   \n",
       "\n",
       "   IsCompleted  IsDeleted  \n",
       "0            1          0  \n",
       "1            1          0  \n",
       "2            1          0  "
      ]
     },
     "execution_count": 4,
     "metadata": {},
     "output_type": "execute_result"
    }
   ],
   "source": [
    "file_name1 = \"compas-scores-raw.csv\"\n",
    "df1=pd.read_csv(file_name1)\n",
    "print(\"Shape: {0}\".format(df1.shape))\n",
    "df1.head(3)\n",
    "#The data itself has (60,000 rows and 28 columns) "
   ]
  },
  {
   "cell_type": "code",
   "execution_count": 6,
   "metadata": {},
   "outputs": [
    {
     "data": {
      "text/plain": [
       "Index(['Person_ID', 'AssessmentID', 'Case_ID', 'Agency_Text', 'LastName',\n",
       "       'FirstName', 'MiddleName', 'Sex_Code_Text', 'Ethnic_Code_Text',\n",
       "       'DateOfBirth', 'ScaleSet_ID', 'ScaleSet', 'AssessmentReason',\n",
       "       'Language', 'LegalStatus', 'CustodyStatus', 'MaritalStatus',\n",
       "       'Screening_Date', 'RecSupervisionLevel', 'RecSupervisionLevelText',\n",
       "       'Scale_ID', 'DisplayText', 'RawScore', 'DecileScore', 'ScoreText',\n",
       "       'AssessmentType', 'IsCompleted', 'IsDeleted'],\n",
       "      dtype='object')"
      ]
     },
     "execution_count": 6,
     "metadata": {},
     "output_type": "execute_result"
    }
   ],
   "source": [
    "df1.columns\n",
    "#some of these factors are obvious, some I've never seen before\n",
    "#so I did some exploring to figure out just what some of these factors are"
   ]
  },
  {
   "cell_type": "markdown",
   "metadata": {},
   "source": [
    "### Exploring the columns"
   ]
  },
  {
   "cell_type": "code",
   "execution_count": 5,
   "metadata": {},
   "outputs": [
    {
     "data": {
      "text/plain": [
       "Person_ID                  18610\n",
       "AssessmentID               20281\n",
       "Case_ID                    19530\n",
       "Agency_Text                    4\n",
       "LastName                   10896\n",
       "FirstName                   7225\n",
       "MiddleName                  1871\n",
       "Sex_Code_Text                  2\n",
       "Ethnic_Code_Text               9\n",
       "DateOfBirth                10382\n",
       "ScaleSet_ID                    2\n",
       "ScaleSet                       2\n",
       "AssessmentReason               1\n",
       "Language                       2\n",
       "LegalStatus                    7\n",
       "CustodyStatus                  6\n",
       "MaritalStatus                  7\n",
       "Screening_Date               705\n",
       "RecSupervisionLevel            4\n",
       "RecSupervisionLevelText        4\n",
       "Scale_ID                       3\n",
       "DisplayText                    3\n",
       "RawScore                     659\n",
       "DecileScore                   11\n",
       "ScoreText                      3\n",
       "AssessmentType                 2\n",
       "IsCompleted                    1\n",
       "IsDeleted                      1\n",
       "dtype: int64"
      ]
     },
     "execution_count": 5,
     "metadata": {},
     "output_type": "execute_result"
    }
   ],
   "source": [
    "df1.nunique(axis=0, dropna=True)"
   ]
  },
  {
   "cell_type": "code",
   "execution_count": 6,
   "metadata": {},
   "outputs": [
    {
     "name": "stdout",
     "output_type": "stream",
     "text": [
      "[1] [0] ['Intake']\n"
     ]
    }
   ],
   "source": [
    "# There are some columns that have only one value: IsCompleted, IsDeleted, AssessmentReason. \n",
    "print(df1.IsCompleted.unique(), df1.IsDeleted.unique(), df1.AssessmentReason.unique())\n",
    "drop_cols= [\"IsCompleted\", \"IsDeleted\", \"AssessmentReason\"]\n",
    "# These columns are not useful for analysis\n",
    "df1.drop(drop_cols, axis=1, inplace=True)"
   ]
  },
  {
   "cell_type": "code",
   "execution_count": 7,
   "metadata": {},
   "outputs": [
    {
     "data": {
      "text/plain": [
       "array(['Risk of Violence', 'Risk of Recidivism',\n",
       "       'Risk of Failure to Appear'], dtype=object)"
      ]
     },
     "execution_count": 7,
     "metadata": {},
     "output_type": "execute_result"
    }
   ],
   "source": [
    "df1.DisplayText.unique() #there were ~18k people for ~60k rows, so roughly 3 rows per person\n",
    "#ScoreID,DisplayText,ScoreText have 3 values. ID is hard to interpret. So looking at DisplayText first\n",
    "#DisplayText has 3 unique values, so they might vary by DisplayText"
   ]
  },
  {
   "cell_type": "code",
   "execution_count": 8,
   "metadata": {},
   "outputs": [
    {
     "data": {
      "text/plain": [
       "(20281, 25)"
      ]
     },
     "execution_count": 8,
     "metadata": {},
     "output_type": "execute_result"
    }
   ],
   "source": [
    "df1.loc[(df1.DisplayText==\"Risk of Violence\"),].shape"
   ]
  },
  {
   "cell_type": "code",
   "execution_count": 9,
   "metadata": {},
   "outputs": [
    {
     "data": {
      "text/plain": [
       "(20281, 25)"
      ]
     },
     "execution_count": 9,
     "metadata": {},
     "output_type": "execute_result"
    }
   ],
   "source": [
    "df1.loc[(df1.DisplayText==\"Risk of Recidivism\"),].shape"
   ]
  },
  {
   "cell_type": "code",
   "execution_count": 10,
   "metadata": {},
   "outputs": [
    {
     "data": {
      "text/plain": [
       "(20281, 25)"
      ]
     },
     "execution_count": 10,
     "metadata": {},
     "output_type": "execute_result"
    }
   ],
   "source": [
    "df1.loc[(df1.DisplayText==\"Risk of Failure to Appear\"),].shape"
   ]
  },
  {
   "cell_type": "code",
   "execution_count": 11,
   "metadata": {},
   "outputs": [],
   "source": [
    "#Maybe the same people, maybe not - dont know yet"
   ]
  },
  {
   "cell_type": "markdown",
   "metadata": {},
   "source": [
    "### Risk of Violence Analysis"
   ]
  },
  {
   "cell_type": "code",
   "execution_count": 12,
   "metadata": {},
   "outputs": [
    {
     "data": {
      "text/plain": [
       "(20281, 25)"
      ]
     },
     "execution_count": 12,
     "metadata": {},
     "output_type": "execute_result"
    }
   ],
   "source": [
    "dfrv = df1.loc[(df1.DisplayText==\"Risk of Violence\"),].copy()\n",
    "dfrv.shape\n",
    "#Out of 60,000 records, 20,281 are for Risk of Violence. Analyzing further"
   ]
  },
  {
   "cell_type": "code",
   "execution_count": 13,
   "metadata": {},
   "outputs": [
    {
     "data": {
      "text/html": [
       "<div>\n",
       "<style scoped>\n",
       "    .dataframe tbody tr th:only-of-type {\n",
       "        vertical-align: middle;\n",
       "    }\n",
       "\n",
       "    .dataframe tbody tr th {\n",
       "        vertical-align: top;\n",
       "    }\n",
       "\n",
       "    .dataframe thead th {\n",
       "        text-align: right;\n",
       "    }\n",
       "</style>\n",
       "<table border=\"1\" class=\"dataframe\">\n",
       "  <thead>\n",
       "    <tr style=\"text-align: right;\">\n",
       "      <th></th>\n",
       "      <th>Person_ID</th>\n",
       "      <th>AssessmentID</th>\n",
       "      <th>Case_ID</th>\n",
       "      <th>Agency_Text</th>\n",
       "      <th>LastName</th>\n",
       "      <th>FirstName</th>\n",
       "      <th>MiddleName</th>\n",
       "      <th>Sex_Code_Text</th>\n",
       "      <th>Ethnic_Code_Text</th>\n",
       "      <th>DateOfBirth</th>\n",
       "      <th>ScaleSet_ID</th>\n",
       "      <th>ScaleSet</th>\n",
       "      <th>Language</th>\n",
       "      <th>LegalStatus</th>\n",
       "      <th>CustodyStatus</th>\n",
       "      <th>MaritalStatus</th>\n",
       "      <th>Screening_Date</th>\n",
       "      <th>RecSupervisionLevel</th>\n",
       "      <th>RecSupervisionLevelText</th>\n",
       "      <th>Scale_ID</th>\n",
       "      <th>DisplayText</th>\n",
       "      <th>RawScore</th>\n",
       "      <th>DecileScore</th>\n",
       "      <th>ScoreText</th>\n",
       "      <th>AssessmentType</th>\n",
       "    </tr>\n",
       "  </thead>\n",
       "  <tbody>\n",
       "    <tr>\n",
       "      <th>0</th>\n",
       "      <td>50844</td>\n",
       "      <td>57167</td>\n",
       "      <td>51950</td>\n",
       "      <td>PRETRIAL</td>\n",
       "      <td>Fisher</td>\n",
       "      <td>Kevin</td>\n",
       "      <td>NaN</td>\n",
       "      <td>Male</td>\n",
       "      <td>Caucasian</td>\n",
       "      <td>12/05/92</td>\n",
       "      <td>22</td>\n",
       "      <td>Risk and Prescreen</td>\n",
       "      <td>English</td>\n",
       "      <td>Pretrial</td>\n",
       "      <td>Jail Inmate</td>\n",
       "      <td>Single</td>\n",
       "      <td>1/1/13 0:00</td>\n",
       "      <td>1</td>\n",
       "      <td>Low</td>\n",
       "      <td>7</td>\n",
       "      <td>Risk of Violence</td>\n",
       "      <td>-2.08</td>\n",
       "      <td>4</td>\n",
       "      <td>Low</td>\n",
       "      <td>New</td>\n",
       "    </tr>\n",
       "    <tr>\n",
       "      <th>3</th>\n",
       "      <td>50848</td>\n",
       "      <td>57174</td>\n",
       "      <td>51956</td>\n",
       "      <td>PRETRIAL</td>\n",
       "      <td>KENDALL</td>\n",
       "      <td>KEVIN</td>\n",
       "      <td>NaN</td>\n",
       "      <td>Male</td>\n",
       "      <td>Caucasian</td>\n",
       "      <td>09/16/84</td>\n",
       "      <td>22</td>\n",
       "      <td>Risk and Prescreen</td>\n",
       "      <td>English</td>\n",
       "      <td>Pretrial</td>\n",
       "      <td>Jail Inmate</td>\n",
       "      <td>Married</td>\n",
       "      <td>1/1/13 0:00</td>\n",
       "      <td>1</td>\n",
       "      <td>Low</td>\n",
       "      <td>7</td>\n",
       "      <td>Risk of Violence</td>\n",
       "      <td>-2.84</td>\n",
       "      <td>2</td>\n",
       "      <td>Low</td>\n",
       "      <td>New</td>\n",
       "    </tr>\n",
       "    <tr>\n",
       "      <th>6</th>\n",
       "      <td>50855</td>\n",
       "      <td>57181</td>\n",
       "      <td>51963</td>\n",
       "      <td>PRETRIAL</td>\n",
       "      <td>DAYES</td>\n",
       "      <td>DANIEL</td>\n",
       "      <td>NaN</td>\n",
       "      <td>Male</td>\n",
       "      <td>African-American</td>\n",
       "      <td>08/25/94</td>\n",
       "      <td>22</td>\n",
       "      <td>Risk and Prescreen</td>\n",
       "      <td>English</td>\n",
       "      <td>Pretrial</td>\n",
       "      <td>Jail Inmate</td>\n",
       "      <td>Single</td>\n",
       "      <td>1/1/13 0:00</td>\n",
       "      <td>4</td>\n",
       "      <td>High</td>\n",
       "      <td>7</td>\n",
       "      <td>Risk of Violence</td>\n",
       "      <td>-1.20</td>\n",
       "      <td>8</td>\n",
       "      <td>High</td>\n",
       "      <td>New</td>\n",
       "    </tr>\n",
       "    <tr>\n",
       "      <th>9</th>\n",
       "      <td>50850</td>\n",
       "      <td>57176</td>\n",
       "      <td>51958</td>\n",
       "      <td>PRETRIAL</td>\n",
       "      <td>Debe</td>\n",
       "      <td>Mikerlie</td>\n",
       "      <td>George</td>\n",
       "      <td>Female</td>\n",
       "      <td>African-American</td>\n",
       "      <td>10/09/94</td>\n",
       "      <td>22</td>\n",
       "      <td>Risk and Prescreen</td>\n",
       "      <td>English</td>\n",
       "      <td>Pretrial</td>\n",
       "      <td>Jail Inmate</td>\n",
       "      <td>Significant Other</td>\n",
       "      <td>1/1/13 0:00</td>\n",
       "      <td>2</td>\n",
       "      <td>Medium</td>\n",
       "      <td>7</td>\n",
       "      <td>Risk of Violence</td>\n",
       "      <td>-1.29</td>\n",
       "      <td>7</td>\n",
       "      <td>Medium</td>\n",
       "      <td>New</td>\n",
       "    </tr>\n",
       "    <tr>\n",
       "      <th>12</th>\n",
       "      <td>50839</td>\n",
       "      <td>57162</td>\n",
       "      <td>51945</td>\n",
       "      <td>PRETRIAL</td>\n",
       "      <td>McLaurin</td>\n",
       "      <td>Stephanie</td>\n",
       "      <td>Nicole</td>\n",
       "      <td>Female</td>\n",
       "      <td>African-American</td>\n",
       "      <td>06/29/85</td>\n",
       "      <td>22</td>\n",
       "      <td>Risk and Prescreen</td>\n",
       "      <td>English</td>\n",
       "      <td>Pretrial</td>\n",
       "      <td>Jail Inmate</td>\n",
       "      <td>Single</td>\n",
       "      <td>1/1/13 0:00</td>\n",
       "      <td>1</td>\n",
       "      <td>Low</td>\n",
       "      <td>7</td>\n",
       "      <td>Risk of Violence</td>\n",
       "      <td>-2.90</td>\n",
       "      <td>2</td>\n",
       "      <td>Low</td>\n",
       "      <td>New</td>\n",
       "    </tr>\n",
       "  </tbody>\n",
       "</table>\n",
       "</div>"
      ],
      "text/plain": [
       "    Person_ID  AssessmentID  Case_ID Agency_Text  LastName  FirstName  \\\n",
       "0       50844         57167    51950    PRETRIAL    Fisher      Kevin   \n",
       "3       50848         57174    51956    PRETRIAL   KENDALL      KEVIN   \n",
       "6       50855         57181    51963    PRETRIAL     DAYES     DANIEL   \n",
       "9       50850         57176    51958    PRETRIAL      Debe   Mikerlie   \n",
       "12      50839         57162    51945    PRETRIAL  McLaurin  Stephanie   \n",
       "\n",
       "   MiddleName Sex_Code_Text  Ethnic_Code_Text DateOfBirth  ScaleSet_ID  \\\n",
       "0         NaN          Male         Caucasian    12/05/92           22   \n",
       "3         NaN          Male         Caucasian    09/16/84           22   \n",
       "6         NaN          Male  African-American    08/25/94           22   \n",
       "9      George        Female  African-American    10/09/94           22   \n",
       "12     Nicole        Female  African-American    06/29/85           22   \n",
       "\n",
       "              ScaleSet Language LegalStatus CustodyStatus      MaritalStatus  \\\n",
       "0   Risk and Prescreen  English    Pretrial   Jail Inmate             Single   \n",
       "3   Risk and Prescreen  English    Pretrial   Jail Inmate            Married   \n",
       "6   Risk and Prescreen  English    Pretrial   Jail Inmate             Single   \n",
       "9   Risk and Prescreen  English    Pretrial   Jail Inmate  Significant Other   \n",
       "12  Risk and Prescreen  English    Pretrial   Jail Inmate             Single   \n",
       "\n",
       "   Screening_Date  RecSupervisionLevel RecSupervisionLevelText  Scale_ID  \\\n",
       "0     1/1/13 0:00                    1                     Low         7   \n",
       "3     1/1/13 0:00                    1                     Low         7   \n",
       "6     1/1/13 0:00                    4                    High         7   \n",
       "9     1/1/13 0:00                    2                  Medium         7   \n",
       "12    1/1/13 0:00                    1                     Low         7   \n",
       "\n",
       "         DisplayText  RawScore  DecileScore ScoreText AssessmentType  \n",
       "0   Risk of Violence     -2.08            4       Low            New  \n",
       "3   Risk of Violence     -2.84            2       Low            New  \n",
       "6   Risk of Violence     -1.20            8      High            New  \n",
       "9   Risk of Violence     -1.29            7    Medium            New  \n",
       "12  Risk of Violence     -2.90            2       Low            New  "
      ]
     },
     "execution_count": 13,
     "metadata": {},
     "output_type": "execute_result"
    }
   ],
   "source": [
    "dfrv.head(5)"
   ]
  },
  {
   "cell_type": "code",
   "execution_count": 14,
   "metadata": {},
   "outputs": [
    {
     "data": {
      "text/plain": [
       "Person_ID                  18610\n",
       "AssessmentID               20281\n",
       "Case_ID                    19530\n",
       "Agency_Text                    4\n",
       "LastName                   10896\n",
       "FirstName                   7225\n",
       "MiddleName                  1871\n",
       "Sex_Code_Text                  2\n",
       "Ethnic_Code_Text               9\n",
       "DateOfBirth                10382\n",
       "ScaleSet_ID                    2\n",
       "ScaleSet                       2\n",
       "Language                       2\n",
       "LegalStatus                    7\n",
       "CustodyStatus                  6\n",
       "MaritalStatus                  7\n",
       "Screening_Date               705\n",
       "RecSupervisionLevel            4\n",
       "RecSupervisionLevelText        4\n",
       "Scale_ID                       1\n",
       "DisplayText                    1\n",
       "RawScore                     485\n",
       "DecileScore                   11\n",
       "ScoreText                      3\n",
       "AssessmentType                 2\n",
       "dtype: int64"
      ]
     },
     "execution_count": 14,
     "metadata": {},
     "output_type": "execute_result"
    }
   ],
   "source": [
    "dfrv.nunique(axis=0, dropna=True)"
   ]
  },
  {
   "cell_type": "code",
   "execution_count": 15,
   "metadata": {},
   "outputs": [
    {
     "data": {
      "text/plain": [
       "(20281, 22)"
      ]
     },
     "execution_count": 15,
     "metadata": {},
     "output_type": "execute_result"
    }
   ],
   "source": [
    "#Scale_ID, DisplayText, AssessmentID can be dropped\n",
    "#These have only 1 value or all different values\n",
    "drop_cols=[\"Scale_ID\", \"DisplayText\", \"AssessmentID\"]\n",
    "dfrv.drop(drop_cols, axis=1, inplace=True)\n",
    "\n",
    "dfrv.shape"
   ]
  },
  {
   "cell_type": "code",
   "execution_count": 16,
   "metadata": {},
   "outputs": [],
   "source": [
    "#Drop rows with NA values - null not useful\n",
    "df = dfrv.loc[dfrv.ScoreText.isna()==False].copy()"
   ]
  },
  {
   "cell_type": "code",
   "execution_count": 17,
   "metadata": {},
   "outputs": [
    {
     "data": {
      "text/plain": [
       "(20272, 22)"
      ]
     },
     "execution_count": 17,
     "metadata": {},
     "output_type": "execute_result"
    }
   ],
   "source": [
    "df.shape"
   ]
  },
  {
   "cell_type": "code",
   "execution_count": 18,
   "metadata": {},
   "outputs": [
    {
     "data": {
      "text/plain": [
       "Person_ID                  18603\n",
       "Case_ID                    19521\n",
       "Agency_Text                    4\n",
       "LastName                   10893\n",
       "FirstName                   7223\n",
       "MiddleName                  1871\n",
       "Sex_Code_Text                  2\n",
       "Ethnic_Code_Text               9\n",
       "DateOfBirth                10380\n",
       "ScaleSet_ID                    2\n",
       "ScaleSet                       2\n",
       "Language                       2\n",
       "LegalStatus                    7\n",
       "CustodyStatus                  6\n",
       "MaritalStatus                  7\n",
       "Screening_Date               705\n",
       "RecSupervisionLevel            4\n",
       "RecSupervisionLevelText        4\n",
       "RawScore                     485\n",
       "DecileScore                   10\n",
       "ScoreText                      3\n",
       "AssessmentType                 2\n",
       "dtype: int64"
      ]
     },
     "execution_count": 18,
     "metadata": {},
     "output_type": "execute_result"
    }
   ],
   "source": [
    "df.nunique(axis=0, dropna=True)"
   ]
  },
  {
   "cell_type": "code",
   "execution_count": 19,
   "metadata": {},
   "outputs": [],
   "source": [
    "#Columns I need to dive deeper to understand correlations"
   ]
  },
  {
   "cell_type": "markdown",
   "metadata": {},
   "source": [
    "### What are RawScores, DecileScores, ScoreText? Are they related?"
   ]
  },
  {
   "cell_type": "code",
   "execution_count": 20,
   "metadata": {},
   "outputs": [
    {
     "data": {
      "text/html": [
       "<div>\n",
       "<style scoped>\n",
       "    .dataframe tbody tr th:only-of-type {\n",
       "        vertical-align: middle;\n",
       "    }\n",
       "\n",
       "    .dataframe tbody tr th {\n",
       "        vertical-align: top;\n",
       "    }\n",
       "\n",
       "    .dataframe thead th {\n",
       "        text-align: right;\n",
       "    }\n",
       "</style>\n",
       "<table border=\"1\" class=\"dataframe\">\n",
       "  <thead>\n",
       "    <tr style=\"text-align: right;\">\n",
       "      <th></th>\n",
       "      <th>RawScore</th>\n",
       "      <th>DecileScore</th>\n",
       "      <th>ScoreText</th>\n",
       "    </tr>\n",
       "  </thead>\n",
       "  <tbody>\n",
       "    <tr>\n",
       "      <th>0</th>\n",
       "      <td>-2.08</td>\n",
       "      <td>4</td>\n",
       "      <td>Low</td>\n",
       "    </tr>\n",
       "    <tr>\n",
       "      <th>3</th>\n",
       "      <td>-2.84</td>\n",
       "      <td>2</td>\n",
       "      <td>Low</td>\n",
       "    </tr>\n",
       "    <tr>\n",
       "      <th>6</th>\n",
       "      <td>-1.20</td>\n",
       "      <td>8</td>\n",
       "      <td>High</td>\n",
       "    </tr>\n",
       "  </tbody>\n",
       "</table>\n",
       "</div>"
      ],
      "text/plain": [
       "   RawScore  DecileScore ScoreText\n",
       "0     -2.08            4       Low\n",
       "3     -2.84            2       Low\n",
       "6     -1.20            8      High"
      ]
     },
     "execution_count": 20,
     "metadata": {},
     "output_type": "execute_result"
    }
   ],
   "source": [
    "#looks like these scores quantify Risk of Violence\n",
    "df[[\"RawScore\", \"DecileScore\", \"ScoreText\"]].head(3)"
   ]
  },
  {
   "cell_type": "code",
   "execution_count": 21,
   "metadata": {},
   "outputs": [
    {
     "data": {
      "text/plain": [
       "(-4.79, 1.52)"
      ]
     },
     "execution_count": 21,
     "metadata": {},
     "output_type": "execute_result"
    }
   ],
   "source": [
    "df.RawScore.min(), df.RawScore.max()"
   ]
  },
  {
   "cell_type": "code",
   "execution_count": 22,
   "metadata": {},
   "outputs": [
    {
     "data": {
      "text/plain": [
       "<seaborn.axisgrid.FacetGrid at 0x1a14bcba58>"
      ]
     },
     "execution_count": 22,
     "metadata": {},
     "output_type": "execute_result"
    },
    {
     "data": {
      "image/png": "[encoded data removed]",
      "text/plain": [
       "<Figure size 360x360 with 1 Axes>"
      ]
     },
     "metadata": {
      "needs_background": "light"
     },
     "output_type": "display_data"
    }
   ],
   "source": [
    "#Correlation between Rawscore and DecileScore - Looks like it is a calculated field. They are definitely correlated.\n",
    "sns.catplot(x=\"RawScore\", y=\"DecileScore\", data=df, orient=\"h\")"
   ]
  },
  {
   "cell_type": "code",
   "execution_count": 23,
   "metadata": {},
   "outputs": [
    {
     "data": {
      "text/plain": [
       "<seaborn.axisgrid.FacetGrid at 0x1a14bd5898>"
      ]
     },
     "execution_count": 23,
     "metadata": {},
     "output_type": "execute_result"
    },
    {
     "data": {
      "image/png": "[encoded data removed]",
      "text/plain": [
       "<Figure size 360x360 with 1 Axes>"
      ]
     },
     "metadata": {
      "needs_background": "light"
     },
     "output_type": "display_data"
    }
   ],
   "source": [
    "#Correlation between ScoreText and DecileScore - \n",
    "#Looks like there are also calculated field. They are definitely correlated.\n",
    "sns.catplot(x=\"DecileScore\", y=\"ScoreText\", data=df, orient=\"h\", order=[\"High\", \"Medium\", \"Low\"])"
   ]
  },
  {
   "cell_type": "markdown",
   "metadata": {},
   "source": [
    "### What are Agency_Text, LegalStatus?"
   ]
  },
  {
   "cell_type": "code",
   "execution_count": 24,
   "metadata": {},
   "outputs": [
    {
     "data": {
      "text/plain": [
       "PRETRIAL          13694\n",
       "Probation          6349\n",
       "DRRD                188\n",
       "Broward County       41\n",
       "Name: Agency_Text, dtype: int64"
      ]
     },
     "execution_count": 24,
     "metadata": {},
     "output_type": "execute_result"
    }
   ],
   "source": [
    "df.Agency_Text.value_counts()"
   ]
  },
  {
   "cell_type": "code",
   "execution_count": 25,
   "metadata": {},
   "outputs": [
    {
     "data": {
      "text/plain": [
       "DRRD              188\n",
       "Broward County     41\n",
       "Name: Agency_Text, dtype: int64"
      ]
     },
     "execution_count": 25,
     "metadata": {},
     "output_type": "execute_result"
    }
   ],
   "source": [
    "#What is DRRD and Broward County? \n",
    "row_vals=[\"DRRD\", \"Broward County\"]\n",
    "df_drrd = df.loc[(df.Agency_Text.isin(row_vals)),].copy()\n",
    "df_drrd.Agency_Text.value_counts()"
   ]
  },
  {
   "cell_type": "code",
   "execution_count": 26,
   "metadata": {},
   "outputs": [
    {
     "data": {
      "text/plain": [
       "Pretrial               90\n",
       "Post Sentence          84\n",
       "Probation Violator     27\n",
       "Conditional Release    13\n",
       "Other                  11\n",
       "Deferred Sentencing     4\n",
       "Name: LegalStatus, dtype: int64"
      ]
     },
     "execution_count": 26,
     "metadata": {},
     "output_type": "execute_result"
    }
   ],
   "source": [
    "df_drrd.LegalStatus.value_counts()"
   ]
  },
  {
   "cell_type": "code",
   "execution_count": null,
   "metadata": {},
   "outputs": [],
   "source": []
  },
  {
   "cell_type": "code",
   "execution_count": 27,
   "metadata": {},
   "outputs": [
    {
     "data": {
      "text/plain": [
       "(20043, 22)"
      ]
     },
     "execution_count": 27,
     "metadata": {},
     "output_type": "execute_result"
    }
   ],
   "source": [
    "#Removing DRRD and Broward County for now\n",
    "df = df.loc[~(df.Agency_Text.isin(row_vals)),].copy()\n",
    "\n",
    "df.shape"
   ]
  },
  {
   "cell_type": "code",
   "execution_count": 28,
   "metadata": {},
   "outputs": [
    {
     "data": {
      "text/plain": [
       "Pretrial               12431\n",
       "Post Sentence           6026\n",
       "Other                   1439\n",
       "Conditional Release      126\n",
       "Probation Violator        15\n",
       "Parole Violator            6\n",
       "Name: LegalStatus, dtype: int64"
      ]
     },
     "execution_count": 28,
     "metadata": {},
     "output_type": "execute_result"
    }
   ],
   "source": [
    "df.LegalStatus.value_counts()"
   ]
  },
  {
   "cell_type": "code",
   "execution_count": 29,
   "metadata": {},
   "outputs": [
    {
     "data": {
      "text/plain": [
       "<matplotlib.axes._subplots.AxesSubplot at 0x1a18726668>"
      ]
     },
     "execution_count": 29,
     "metadata": {},
     "output_type": "execute_result"
    },
    {
     "data": {
      "image/png": "[encoded data removed]",
      "text/plain": [
       "<Figure size 432x288 with 1 Axes>"
      ]
     },
     "metadata": {
      "needs_background": "light"
     },
     "output_type": "display_data"
    }
   ],
   "source": [
    "#Correlation between LegalStatus and Agency_Text?\n",
    "\n",
    "sns.countplot(x='Agency_Text',hue='LegalStatus',data=df)"
   ]
  },
  {
   "cell_type": "raw",
   "metadata": {},
   "source": [
    "Most of probation is post sentence and other"
   ]
  },
  {
   "cell_type": "code",
   "execution_count": null,
   "metadata": {},
   "outputs": [],
   "source": []
  },
  {
   "cell_type": "markdown",
   "metadata": {},
   "source": [
    "### Correlation of RecSupervisionLevel  with Gender"
   ]
  },
  {
   "cell_type": "code",
   "execution_count": 30,
   "metadata": {},
   "outputs": [
    {
     "data": {
      "text/plain": [
       "<matplotlib.axes._subplots.AxesSubplot at 0x1a15d38c88>"
      ]
     },
     "execution_count": 30,
     "metadata": {},
     "output_type": "execute_result"
    },
    {
     "data": {
      "image/png": "[encoded data removed]",
      "text/plain": [
       "<Figure size 432x288 with 1 Axes>"
      ]
     },
     "metadata": {
      "needs_background": "light"
     },
     "output_type": "display_data"
    }
   ],
   "source": [
    "sns.countplot(x='Sex_Code_Text',hue='RecSupervisionLevelText',data=df)"
   ]
  },
  {
   "cell_type": "code",
   "execution_count": 31,
   "metadata": {},
   "outputs": [
    {
     "data": {
      "text/html": [
       "<div>\n",
       "<style scoped>\n",
       "    .dataframe tbody tr th:only-of-type {\n",
       "        vertical-align: middle;\n",
       "    }\n",
       "\n",
       "    .dataframe tbody tr th {\n",
       "        vertical-align: top;\n",
       "    }\n",
       "\n",
       "    .dataframe thead th {\n",
       "        text-align: right;\n",
       "    }\n",
       "</style>\n",
       "<table border=\"1\" class=\"dataframe\">\n",
       "  <thead>\n",
       "    <tr style=\"text-align: right;\">\n",
       "      <th>RecSupervisionLevelText</th>\n",
       "      <th>High</th>\n",
       "      <th>Low</th>\n",
       "      <th>Medium</th>\n",
       "      <th>Medium with Override Consideration</th>\n",
       "    </tr>\n",
       "    <tr>\n",
       "      <th>Sex_Code_Text</th>\n",
       "      <th></th>\n",
       "      <th></th>\n",
       "      <th></th>\n",
       "      <th></th>\n",
       "    </tr>\n",
       "  </thead>\n",
       "  <tbody>\n",
       "    <tr>\n",
       "      <th>Female</th>\n",
       "      <td>0.029739</td>\n",
       "      <td>0.684222</td>\n",
       "      <td>0.173666</td>\n",
       "      <td>0.112372</td>\n",
       "    </tr>\n",
       "    <tr>\n",
       "      <th>Male</th>\n",
       "      <td>0.075713</td>\n",
       "      <td>0.622330</td>\n",
       "      <td>0.170610</td>\n",
       "      <td>0.131347</td>\n",
       "    </tr>\n",
       "  </tbody>\n",
       "</table>\n",
       "</div>"
      ],
      "text/plain": [
       "RecSupervisionLevelText      High       Low    Medium  \\\n",
       "Sex_Code_Text                                           \n",
       "Female                   0.029739  0.684222  0.173666   \n",
       "Male                     0.075713  0.622330  0.170610   \n",
       "\n",
       "RecSupervisionLevelText  Medium with Override Consideration  \n",
       "Sex_Code_Text                                                \n",
       "Female                                             0.112372  \n",
       "Male                                               0.131347  "
      ]
     },
     "execution_count": 31,
     "metadata": {},
     "output_type": "execute_result"
    }
   ],
   "source": [
    "cb=pd.crosstab(index=df[\"Sex_Code_Text\"],columns=df[\"RecSupervisionLevelText\"], normalize='index')\n",
    "cb"
   ]
  },
  {
   "cell_type": "markdown",
   "metadata": {},
   "source": [
    "### Correlation of Agency_Text  with Gender"
   ]
  },
  {
   "cell_type": "code",
   "execution_count": 32,
   "metadata": {},
   "outputs": [
    {
     "data": {
      "text/plain": [
       "<matplotlib.axes._subplots.AxesSubplot at 0x1a180f2cc0>"
      ]
     },
     "execution_count": 32,
     "metadata": {},
     "output_type": "execute_result"
    },
    {
     "data": {
      "image/png": "[encoded data removed]",
      "text/plain": [
       "<Figure size 432x288 with 1 Axes>"
      ]
     },
     "metadata": {
      "needs_background": "light"
     },
     "output_type": "display_data"
    }
   ],
   "source": [
    "sns.countplot(x='Sex_Code_Text',hue='Agency_Text',data=df)"
   ]
  },
  {
   "cell_type": "markdown",
   "metadata": {},
   "source": [
    "### Correlation of Scores  with Gender"
   ]
  },
  {
   "cell_type": "code",
   "execution_count": 33,
   "metadata": {},
   "outputs": [
    {
     "data": {
      "text/plain": [
       "<seaborn.axisgrid.FacetGrid at 0x1a180f2e10>"
      ]
     },
     "execution_count": 33,
     "metadata": {},
     "output_type": "execute_result"
    },
    {
     "data": {
      "image/png": "[encoded data removed]",
      "text/plain": [
       "<Figure size 360x360 with 1 Axes>"
      ]
     },
     "metadata": {
      "needs_background": "light"
     },
     "output_type": "display_data"
    }
   ],
   "source": [
    "sns.catplot(x=\"Sex_Code_Text\", y=\"RawScore\", data=df)"
   ]
  },
  {
   "cell_type": "code",
   "execution_count": 34,
   "metadata": {},
   "outputs": [
    {
     "data": {
      "text/html": [
       "<div>\n",
       "<style scoped>\n",
       "    .dataframe tbody tr th:only-of-type {\n",
       "        vertical-align: middle;\n",
       "    }\n",
       "\n",
       "    .dataframe tbody tr th {\n",
       "        vertical-align: top;\n",
       "    }\n",
       "\n",
       "    .dataframe thead th {\n",
       "        text-align: right;\n",
       "    }\n",
       "</style>\n",
       "<table border=\"1\" class=\"dataframe\">\n",
       "  <thead>\n",
       "    <tr style=\"text-align: right;\">\n",
       "      <th>ScoreText</th>\n",
       "      <th>High</th>\n",
       "      <th>Low</th>\n",
       "      <th>Medium</th>\n",
       "    </tr>\n",
       "    <tr>\n",
       "      <th>Sex_Code_Text</th>\n",
       "      <th></th>\n",
       "      <th></th>\n",
       "      <th></th>\n",
       "    </tr>\n",
       "  </thead>\n",
       "  <tbody>\n",
       "    <tr>\n",
       "      <th>Female</th>\n",
       "      <td>0.034960</td>\n",
       "      <td>0.813621</td>\n",
       "      <td>0.151419</td>\n",
       "    </tr>\n",
       "    <tr>\n",
       "      <th>Male</th>\n",
       "      <td>0.093746</td>\n",
       "      <td>0.702008</td>\n",
       "      <td>0.204246</td>\n",
       "    </tr>\n",
       "  </tbody>\n",
       "</table>\n",
       "</div>"
      ],
      "text/plain": [
       "ScoreText          High       Low    Medium\n",
       "Sex_Code_Text                              \n",
       "Female         0.034960  0.813621  0.151419\n",
       "Male           0.093746  0.702008  0.204246"
      ]
     },
     "execution_count": 34,
     "metadata": {},
     "output_type": "execute_result"
    }
   ],
   "source": [
    "cb=pd.crosstab(index=df[\"Sex_Code_Text\"],columns=df[\"ScoreText\"], normalize='index')\n",
    "cb"
   ]
  },
  {
   "cell_type": "raw",
   "metadata": {},
   "source": [
    "3% of female are high risk of violence; 9% of male are high risk of violence\n",
    "81% of female are low risk of violence; 69% of male are low risk of violence\n",
    "15% of female are med risk of violence; 20% of male are med risk of violence"
   ]
  },
  {
   "cell_type": "markdown",
   "metadata": {},
   "source": [
    "### Correlation of Scores  with Ethnicity"
   ]
  },
  {
   "cell_type": "code",
   "execution_count": 35,
   "metadata": {},
   "outputs": [],
   "source": [
    "#African-American is coded as African-Am as well. Combined the definitions\n",
    "df.loc[df.Ethnic_Code_Text == 'African-Am', 'Ethnic_Code_Text'] = 'African-American'"
   ]
  },
  {
   "cell_type": "code",
   "execution_count": 36,
   "metadata": {},
   "outputs": [
    {
     "data": {
      "text/plain": [
       "African-American    8862\n",
       "Caucasian           7217\n",
       "Hispanic            2888\n",
       "Other                859\n",
       "Asian                108\n",
       "Native American       72\n",
       "Arabic                24\n",
       "Oriental              13\n",
       "Name: Ethnic_Code_Text, dtype: int64"
      ]
     },
     "execution_count": 36,
     "metadata": {},
     "output_type": "execute_result"
    }
   ],
   "source": [
    "df.Ethnic_Code_Text.value_counts()"
   ]
  },
  {
   "cell_type": "code",
   "execution_count": 37,
   "metadata": {},
   "outputs": [
    {
     "data": {
      "text/plain": [
       "<seaborn.axisgrid.FacetGrid at 0x101e936d8>"
      ]
     },
     "execution_count": 37,
     "metadata": {},
     "output_type": "execute_result"
    },
    {
     "data": {
      "image/png": "[encoded data removed]",
      "text/plain": [
       "<Figure size 360x360 with 1 Axes>"
      ]
     },
     "metadata": {
      "needs_background": "light"
     },
     "output_type": "display_data"
    }
   ],
   "source": [
    "sns.catplot(x=\"RawScore\", y=\"Ethnic_Code_Text\", data=df, orient='h')"
   ]
  },
  {
   "cell_type": "code",
   "execution_count": 38,
   "metadata": {},
   "outputs": [
    {
     "data": {
      "text/html": [
       "<div>\n",
       "<style scoped>\n",
       "    .dataframe tbody tr th:only-of-type {\n",
       "        vertical-align: middle;\n",
       "    }\n",
       "\n",
       "    .dataframe tbody tr th {\n",
       "        vertical-align: top;\n",
       "    }\n",
       "\n",
       "    .dataframe thead th {\n",
       "        text-align: right;\n",
       "    }\n",
       "</style>\n",
       "<table border=\"1\" class=\"dataframe\">\n",
       "  <thead>\n",
       "    <tr style=\"text-align: right;\">\n",
       "      <th>ScoreText</th>\n",
       "      <th>High</th>\n",
       "      <th>Low</th>\n",
       "      <th>Medium</th>\n",
       "    </tr>\n",
       "    <tr>\n",
       "      <th>Ethnic_Code_Text</th>\n",
       "      <th></th>\n",
       "      <th></th>\n",
       "      <th></th>\n",
       "    </tr>\n",
       "  </thead>\n",
       "  <tbody>\n",
       "    <tr>\n",
       "      <th>African-American</th>\n",
       "      <td>0.132927</td>\n",
       "      <td>0.591853</td>\n",
       "      <td>0.275220</td>\n",
       "    </tr>\n",
       "    <tr>\n",
       "      <th>Arabic</th>\n",
       "      <td>0.000000</td>\n",
       "      <td>0.833333</td>\n",
       "      <td>0.166667</td>\n",
       "    </tr>\n",
       "    <tr>\n",
       "      <th>Asian</th>\n",
       "      <td>0.027778</td>\n",
       "      <td>0.925926</td>\n",
       "      <td>0.046296</td>\n",
       "    </tr>\n",
       "    <tr>\n",
       "      <th>Caucasian</th>\n",
       "      <td>0.039629</td>\n",
       "      <td>0.830123</td>\n",
       "      <td>0.130248</td>\n",
       "    </tr>\n",
       "    <tr>\n",
       "      <th>Hispanic</th>\n",
       "      <td>0.041205</td>\n",
       "      <td>0.842798</td>\n",
       "      <td>0.115997</td>\n",
       "    </tr>\n",
       "    <tr>\n",
       "      <th>Native American</th>\n",
       "      <td>0.083333</td>\n",
       "      <td>0.694444</td>\n",
       "      <td>0.222222</td>\n",
       "    </tr>\n",
       "    <tr>\n",
       "      <th>Oriental</th>\n",
       "      <td>0.076923</td>\n",
       "      <td>0.846154</td>\n",
       "      <td>0.076923</td>\n",
       "    </tr>\n",
       "    <tr>\n",
       "      <th>Other</th>\n",
       "      <td>0.031432</td>\n",
       "      <td>0.827707</td>\n",
       "      <td>0.140861</td>\n",
       "    </tr>\n",
       "  </tbody>\n",
       "</table>\n",
       "</div>"
      ],
      "text/plain": [
       "ScoreText             High       Low    Medium\n",
       "Ethnic_Code_Text                              \n",
       "African-American  0.132927  0.591853  0.275220\n",
       "Arabic            0.000000  0.833333  0.166667\n",
       "Asian             0.027778  0.925926  0.046296\n",
       "Caucasian         0.039629  0.830123  0.130248\n",
       "Hispanic          0.041205  0.842798  0.115997\n",
       "Native American   0.083333  0.694444  0.222222\n",
       "Oriental          0.076923  0.846154  0.076923\n",
       "Other             0.031432  0.827707  0.140861"
      ]
     },
     "execution_count": 38,
     "metadata": {},
     "output_type": "execute_result"
    }
   ],
   "source": [
    "cb=pd.crosstab(index=df[\"Ethnic_Code_Text\"],columns=df[\"ScoreText\"], normalize='index')\n",
    "cb"
   ]
  },
  {
   "cell_type": "code",
   "execution_count": 39,
   "metadata": {},
   "outputs": [
    {
     "data": {
      "text/html": [
       "<div>\n",
       "<style scoped>\n",
       "    .dataframe tbody tr th:only-of-type {\n",
       "        vertical-align: middle;\n",
       "    }\n",
       "\n",
       "    .dataframe tbody tr th {\n",
       "        vertical-align: top;\n",
       "    }\n",
       "\n",
       "    .dataframe thead th {\n",
       "        text-align: right;\n",
       "    }\n",
       "</style>\n",
       "<table border=\"1\" class=\"dataframe\">\n",
       "  <thead>\n",
       "    <tr style=\"text-align: right;\">\n",
       "      <th>ScoreText</th>\n",
       "      <th>High</th>\n",
       "      <th>Low</th>\n",
       "      <th>Medium</th>\n",
       "    </tr>\n",
       "    <tr>\n",
       "      <th>Ethnic_Code_Text</th>\n",
       "      <th></th>\n",
       "      <th></th>\n",
       "      <th></th>\n",
       "    </tr>\n",
       "  </thead>\n",
       "  <tbody>\n",
       "    <tr>\n",
       "      <th>African-American</th>\n",
       "      <td>1178</td>\n",
       "      <td>5245</td>\n",
       "      <td>2439</td>\n",
       "    </tr>\n",
       "    <tr>\n",
       "      <th>Arabic</th>\n",
       "      <td>0</td>\n",
       "      <td>20</td>\n",
       "      <td>4</td>\n",
       "    </tr>\n",
       "    <tr>\n",
       "      <th>Asian</th>\n",
       "      <td>3</td>\n",
       "      <td>100</td>\n",
       "      <td>5</td>\n",
       "    </tr>\n",
       "    <tr>\n",
       "      <th>Caucasian</th>\n",
       "      <td>286</td>\n",
       "      <td>5991</td>\n",
       "      <td>940</td>\n",
       "    </tr>\n",
       "    <tr>\n",
       "      <th>Hispanic</th>\n",
       "      <td>119</td>\n",
       "      <td>2434</td>\n",
       "      <td>335</td>\n",
       "    </tr>\n",
       "    <tr>\n",
       "      <th>Native American</th>\n",
       "      <td>6</td>\n",
       "      <td>50</td>\n",
       "      <td>16</td>\n",
       "    </tr>\n",
       "    <tr>\n",
       "      <th>Oriental</th>\n",
       "      <td>1</td>\n",
       "      <td>11</td>\n",
       "      <td>1</td>\n",
       "    </tr>\n",
       "    <tr>\n",
       "      <th>Other</th>\n",
       "      <td>27</td>\n",
       "      <td>711</td>\n",
       "      <td>121</td>\n",
       "    </tr>\n",
       "  </tbody>\n",
       "</table>\n",
       "</div>"
      ],
      "text/plain": [
       "ScoreText         High   Low  Medium\n",
       "Ethnic_Code_Text                    \n",
       "African-American  1178  5245    2439\n",
       "Arabic               0    20       4\n",
       "Asian                3   100       5\n",
       "Caucasian          286  5991     940\n",
       "Hispanic           119  2434     335\n",
       "Native American      6    50      16\n",
       "Oriental             1    11       1\n",
       "Other               27   711     121"
      ]
     },
     "execution_count": 39,
     "metadata": {},
     "output_type": "execute_result"
    }
   ],
   "source": [
    "#Actual numbers\n",
    "cb=pd.crosstab(index=df[\"Ethnic_Code_Text\"],columns=df[\"ScoreText\"])\n",
    "cb"
   ]
  },
  {
   "cell_type": "raw",
   "metadata": {},
   "source": [
    "13% of Af-Am are scored high risk for violence; 3% of caucasian and 2% of Asian are scored high risk for violence"
   ]
  },
  {
   "cell_type": "code",
   "execution_count": null,
   "metadata": {},
   "outputs": [],
   "source": []
  },
  {
   "cell_type": "code",
   "execution_count": null,
   "metadata": {},
   "outputs": [],
   "source": []
  },
  {
   "cell_type": "code",
   "execution_count": null,
   "metadata": {},
   "outputs": [],
   "source": []
  },
  {
   "cell_type": "code",
   "execution_count": null,
   "metadata": {},
   "outputs": [],
   "source": []
  },
  {
   "cell_type": "code",
   "execution_count": null,
   "metadata": {},
   "outputs": [],
   "source": []
  },
  {
   "cell_type": "markdown",
   "metadata": {},
   "source": [
    "## OLD CODE BELOW"
   ]
  },
  {
   "cell_type": "code",
   "execution_count": 103,
   "metadata": {},
   "outputs": [
    {
     "data": {
      "text/plain": [
       "array(['PRETRIAL', 'Probation', 'DRRD', 'Broward County'], dtype=object)"
      ]
     },
     "execution_count": 103,
     "metadata": {},
     "output_type": "execute_result"
    }
   ],
   "source": [
    "dfrv.Agency_Text.unique()"
   ]
  },
  {
   "cell_type": "code",
   "execution_count": 104,
   "metadata": {},
   "outputs": [
    {
     "data": {
      "text/plain": [
       "array(['Low', 'High', 'Medium', 'Medium with Override Consideration'],\n",
       "      dtype=object)"
      ]
     },
     "execution_count": 104,
     "metadata": {},
     "output_type": "execute_result"
    }
   ],
   "source": [
    "dfrv.RecSupervisionLevelText.unique()"
   ]
  },
  {
   "cell_type": "code",
   "execution_count": 109,
   "metadata": {},
   "outputs": [
    {
     "data": {
      "text/plain": [
       "array(['Low', 'High', 'Medium', nan], dtype=object)"
      ]
     },
     "execution_count": 109,
     "metadata": {},
     "output_type": "execute_result"
    }
   ],
   "source": [
    "dfrv.ScoreText.unique()"
   ]
  },
  {
   "cell_type": "code",
   "execution_count": null,
   "metadata": {},
   "outputs": [],
   "source": []
  },
  {
   "cell_type": "markdown",
   "metadata": {},
   "source": [
    "#### There are some columns that have 2 values: AssessmentType, Language, Sex_Code_Text, ScaleSet, ScaleSet_ID. "
   ]
  },
  {
   "cell_type": "code",
   "execution_count": 37,
   "metadata": {},
   "outputs": [
    {
     "data": {
      "text/plain": [
       "array(['English', 'Spanish'], dtype=object)"
      ]
     },
     "execution_count": 37,
     "metadata": {},
     "output_type": "execute_result"
    }
   ],
   "source": [
    "df1.Language.unique()"
   ]
  },
  {
   "cell_type": "code",
   "execution_count": 39,
   "metadata": {},
   "outputs": [
    {
     "data": {
      "text/plain": [
       "array(['Male', 'Female'], dtype=object)"
      ]
     },
     "execution_count": 39,
     "metadata": {},
     "output_type": "execute_result"
    }
   ],
   "source": [
    "df1.Sex_Code_Text.unique()"
   ]
  },
  {
   "cell_type": "code",
   "execution_count": 41,
   "metadata": {},
   "outputs": [
    {
     "data": {
      "text/plain": [
       "(array(['Risk and Prescreen', 'All Scales'], dtype=object), array([22, 17]))"
      ]
     },
     "execution_count": 41,
     "metadata": {},
     "output_type": "execute_result"
    }
   ],
   "source": [
    "df1.ScaleSet.unique(), df1.ScaleSet_ID.unique(), "
   ]
  },
  {
   "cell_type": "markdown",
   "metadata": {},
   "source": [
    "#### There are some columns that have 2 values: AssessmentType, Language, Sex_Code_Text, ScaleSet, ScaleSet_ID. "
   ]
  },
  {
   "cell_type": "code",
   "execution_count": null,
   "metadata": {},
   "outputs": [],
   "source": []
  },
  {
   "cell_type": "code",
   "execution_count": 63,
   "metadata": {},
   "outputs": [
    {
     "name": "stdout",
     "output_type": "stream",
     "text": [
      "Shape: (18316, 52)\n"
     ]
    },
    {
     "data": {
      "text/html": [
       "<div>\n",
       "<style scoped>\n",
       "    .dataframe tbody tr th:only-of-type {\n",
       "        vertical-align: middle;\n",
       "    }\n",
       "\n",
       "    .dataframe tbody tr th {\n",
       "        vertical-align: top;\n",
       "    }\n",
       "\n",
       "    .dataframe thead th {\n",
       "        text-align: right;\n",
       "    }\n",
       "</style>\n",
       "<table border=\"1\" class=\"dataframe\">\n",
       "  <thead>\n",
       "    <tr style=\"text-align: right;\">\n",
       "      <th></th>\n",
       "      <th>id</th>\n",
       "      <th>name</th>\n",
       "      <th>first</th>\n",
       "      <th>last</th>\n",
       "      <th>compas_screening_date</th>\n",
       "      <th>sex</th>\n",
       "      <th>dob</th>\n",
       "      <th>age</th>\n",
       "      <th>age_cat</th>\n",
       "      <th>race</th>\n",
       "      <th>juv_fel_count</th>\n",
       "      <th>decile_score</th>\n",
       "      <th>juv_misd_count</th>\n",
       "      <th>juv_other_count</th>\n",
       "      <th>priors_count</th>\n",
       "      <th>days_b_screening_arrest</th>\n",
       "      <th>c_jail_in</th>\n",
       "      <th>c_jail_out</th>\n",
       "      <th>c_case_number</th>\n",
       "      <th>c_offense_date</th>\n",
       "      <th>c_arrest_date</th>\n",
       "      <th>c_days_from_compas</th>\n",
       "      <th>c_charge_degree</th>\n",
       "      <th>c_charge_desc</th>\n",
       "      <th>is_recid</th>\n",
       "      <th>r_case_number</th>\n",
       "      <th>r_charge_degree</th>\n",
       "      <th>r_days_from_arrest</th>\n",
       "      <th>r_offense_date</th>\n",
       "      <th>r_charge_desc</th>\n",
       "      <th>r_jail_in</th>\n",
       "      <th>r_jail_out</th>\n",
       "      <th>violent_recid</th>\n",
       "      <th>is_violent_recid</th>\n",
       "      <th>vr_case_number</th>\n",
       "      <th>vr_charge_degree</th>\n",
       "      <th>vr_offense_date</th>\n",
       "      <th>vr_charge_desc</th>\n",
       "      <th>type_of_assessment</th>\n",
       "      <th>decile_score.1</th>\n",
       "      <th>score_text</th>\n",
       "      <th>screening_date</th>\n",
       "      <th>v_type_of_assessment</th>\n",
       "      <th>v_decile_score</th>\n",
       "      <th>v_score_text</th>\n",
       "      <th>v_screening_date</th>\n",
       "      <th>in_custody</th>\n",
       "      <th>out_custody</th>\n",
       "      <th>priors_count.1</th>\n",
       "      <th>start</th>\n",
       "      <th>end</th>\n",
       "      <th>event</th>\n",
       "    </tr>\n",
       "  </thead>\n",
       "  <tbody>\n",
       "    <tr>\n",
       "      <th>0</th>\n",
       "      <td>1.0</td>\n",
       "      <td>miguel hernandez</td>\n",
       "      <td>miguel</td>\n",
       "      <td>hernandez</td>\n",
       "      <td>14/08/2013</td>\n",
       "      <td>Male</td>\n",
       "      <td>18/04/1947</td>\n",
       "      <td>69</td>\n",
       "      <td>Greater than 45</td>\n",
       "      <td>Other</td>\n",
       "      <td>0</td>\n",
       "      <td>1</td>\n",
       "      <td>0</td>\n",
       "      <td>0</td>\n",
       "      <td>0</td>\n",
       "      <td>-1.0</td>\n",
       "      <td>13/08/2013 6:03</td>\n",
       "      <td>14/08/2013 5:41</td>\n",
       "      <td>13011352CF10A</td>\n",
       "      <td>13/08/2013</td>\n",
       "      <td>NaN</td>\n",
       "      <td>1.0</td>\n",
       "      <td>(F3)</td>\n",
       "      <td>Aggravated Assault w/Firearm</td>\n",
       "      <td>0</td>\n",
       "      <td>NaN</td>\n",
       "      <td>NaN</td>\n",
       "      <td>NaN</td>\n",
       "      <td>NaN</td>\n",
       "      <td>NaN</td>\n",
       "      <td>NaN</td>\n",
       "      <td>NaN</td>\n",
       "      <td>NaN</td>\n",
       "      <td>0</td>\n",
       "      <td>NaN</td>\n",
       "      <td>NaN</td>\n",
       "      <td>NaN</td>\n",
       "      <td>NaN</td>\n",
       "      <td>Risk of Recidivism</td>\n",
       "      <td>1</td>\n",
       "      <td>Low</td>\n",
       "      <td>14/08/2013</td>\n",
       "      <td>Risk of Violence</td>\n",
       "      <td>1</td>\n",
       "      <td>Low</td>\n",
       "      <td>14/08/2013</td>\n",
       "      <td>07/07/2014</td>\n",
       "      <td>14/07/2014</td>\n",
       "      <td>0</td>\n",
       "      <td>0</td>\n",
       "      <td>327</td>\n",
       "      <td>0</td>\n",
       "    </tr>\n",
       "    <tr>\n",
       "      <th>1</th>\n",
       "      <td>2.0</td>\n",
       "      <td>miguel hernandez</td>\n",
       "      <td>miguel</td>\n",
       "      <td>hernandez</td>\n",
       "      <td>14/08/2013</td>\n",
       "      <td>Male</td>\n",
       "      <td>18/04/1947</td>\n",
       "      <td>69</td>\n",
       "      <td>Greater than 45</td>\n",
       "      <td>Other</td>\n",
       "      <td>0</td>\n",
       "      <td>1</td>\n",
       "      <td>0</td>\n",
       "      <td>0</td>\n",
       "      <td>0</td>\n",
       "      <td>-1.0</td>\n",
       "      <td>13/08/2013 6:03</td>\n",
       "      <td>14/08/2013 5:41</td>\n",
       "      <td>13011352CF10A</td>\n",
       "      <td>13/08/2013</td>\n",
       "      <td>NaN</td>\n",
       "      <td>1.0</td>\n",
       "      <td>(F3)</td>\n",
       "      <td>Aggravated Assault w/Firearm</td>\n",
       "      <td>0</td>\n",
       "      <td>NaN</td>\n",
       "      <td>NaN</td>\n",
       "      <td>NaN</td>\n",
       "      <td>NaN</td>\n",
       "      <td>NaN</td>\n",
       "      <td>NaN</td>\n",
       "      <td>NaN</td>\n",
       "      <td>NaN</td>\n",
       "      <td>0</td>\n",
       "      <td>NaN</td>\n",
       "      <td>NaN</td>\n",
       "      <td>NaN</td>\n",
       "      <td>NaN</td>\n",
       "      <td>Risk of Recidivism</td>\n",
       "      <td>1</td>\n",
       "      <td>Low</td>\n",
       "      <td>14/08/2013</td>\n",
       "      <td>Risk of Violence</td>\n",
       "      <td>1</td>\n",
       "      <td>Low</td>\n",
       "      <td>14/08/2013</td>\n",
       "      <td>07/07/2014</td>\n",
       "      <td>14/07/2014</td>\n",
       "      <td>0</td>\n",
       "      <td>334</td>\n",
       "      <td>961</td>\n",
       "      <td>0</td>\n",
       "    </tr>\n",
       "    <tr>\n",
       "      <th>2</th>\n",
       "      <td>3.0</td>\n",
       "      <td>michael ryan</td>\n",
       "      <td>michael</td>\n",
       "      <td>ryan</td>\n",
       "      <td>31/12/2014</td>\n",
       "      <td>Male</td>\n",
       "      <td>06/02/1985</td>\n",
       "      <td>31</td>\n",
       "      <td>25 - 45</td>\n",
       "      <td>Caucasian</td>\n",
       "      <td>0</td>\n",
       "      <td>5</td>\n",
       "      <td>0</td>\n",
       "      <td>0</td>\n",
       "      <td>0</td>\n",
       "      <td>NaN</td>\n",
       "      <td>NaN</td>\n",
       "      <td>NaN</td>\n",
       "      <td>NaN</td>\n",
       "      <td>NaN</td>\n",
       "      <td>NaN</td>\n",
       "      <td>NaN</td>\n",
       "      <td>NaN</td>\n",
       "      <td>NaN</td>\n",
       "      <td>-1</td>\n",
       "      <td>NaN</td>\n",
       "      <td>NaN</td>\n",
       "      <td>NaN</td>\n",
       "      <td>NaN</td>\n",
       "      <td>NaN</td>\n",
       "      <td>NaN</td>\n",
       "      <td>NaN</td>\n",
       "      <td>NaN</td>\n",
       "      <td>0</td>\n",
       "      <td>NaN</td>\n",
       "      <td>NaN</td>\n",
       "      <td>NaN</td>\n",
       "      <td>NaN</td>\n",
       "      <td>Risk of Recidivism</td>\n",
       "      <td>5</td>\n",
       "      <td>Medium</td>\n",
       "      <td>31/12/2014</td>\n",
       "      <td>Risk of Violence</td>\n",
       "      <td>2</td>\n",
       "      <td>Low</td>\n",
       "      <td>31/12/2014</td>\n",
       "      <td>30/12/2014</td>\n",
       "      <td>03/01/2015</td>\n",
       "      <td>0</td>\n",
       "      <td>3</td>\n",
       "      <td>457</td>\n",
       "      <td>0</td>\n",
       "    </tr>\n",
       "  </tbody>\n",
       "</table>\n",
       "</div>"
      ],
      "text/plain": [
       "    id              name    first       last compas_screening_date   sex  \\\n",
       "0  1.0  miguel hernandez   miguel  hernandez            14/08/2013  Male   \n",
       "1  2.0  miguel hernandez   miguel  hernandez            14/08/2013  Male   \n",
       "2  3.0      michael ryan  michael       ryan            31/12/2014  Male   \n",
       "\n",
       "          dob  age          age_cat       race  juv_fel_count  decile_score  \\\n",
       "0  18/04/1947   69  Greater than 45      Other              0             1   \n",
       "1  18/04/1947   69  Greater than 45      Other              0             1   \n",
       "2  06/02/1985   31          25 - 45  Caucasian              0             5   \n",
       "\n",
       "   juv_misd_count  juv_other_count  priors_count  days_b_screening_arrest  \\\n",
       "0               0                0             0                     -1.0   \n",
       "1               0                0             0                     -1.0   \n",
       "2               0                0             0                      NaN   \n",
       "\n",
       "         c_jail_in       c_jail_out  c_case_number c_offense_date  \\\n",
       "0  13/08/2013 6:03  14/08/2013 5:41  13011352CF10A     13/08/2013   \n",
       "1  13/08/2013 6:03  14/08/2013 5:41  13011352CF10A     13/08/2013   \n",
       "2              NaN              NaN            NaN            NaN   \n",
       "\n",
       "  c_arrest_date  c_days_from_compas c_charge_degree  \\\n",
       "0           NaN                 1.0            (F3)   \n",
       "1           NaN                 1.0            (F3)   \n",
       "2           NaN                 NaN             NaN   \n",
       "\n",
       "                  c_charge_desc  is_recid r_case_number r_charge_degree  \\\n",
       "0  Aggravated Assault w/Firearm         0           NaN             NaN   \n",
       "1  Aggravated Assault w/Firearm         0           NaN             NaN   \n",
       "2                           NaN        -1           NaN             NaN   \n",
       "\n",
       "   r_days_from_arrest r_offense_date r_charge_desc r_jail_in r_jail_out  \\\n",
       "0                 NaN            NaN           NaN       NaN        NaN   \n",
       "1                 NaN            NaN           NaN       NaN        NaN   \n",
       "2                 NaN            NaN           NaN       NaN        NaN   \n",
       "\n",
       "   violent_recid  is_violent_recid vr_case_number vr_charge_degree  \\\n",
       "0            NaN                 0            NaN              NaN   \n",
       "1            NaN                 0            NaN              NaN   \n",
       "2            NaN                 0            NaN              NaN   \n",
       "\n",
       "  vr_offense_date vr_charge_desc  type_of_assessment  decile_score.1  \\\n",
       "0             NaN            NaN  Risk of Recidivism               1   \n",
       "1             NaN            NaN  Risk of Recidivism               1   \n",
       "2             NaN            NaN  Risk of Recidivism               5   \n",
       "\n",
       "  score_text screening_date v_type_of_assessment  v_decile_score v_score_text  \\\n",
       "0        Low     14/08/2013     Risk of Violence               1          Low   \n",
       "1        Low     14/08/2013     Risk of Violence               1          Low   \n",
       "2     Medium     31/12/2014     Risk of Violence               2          Low   \n",
       "\n",
       "  v_screening_date  in_custody out_custody  priors_count.1  start  end  event  \n",
       "0       14/08/2013  07/07/2014  14/07/2014               0      0  327      0  \n",
       "1       14/08/2013  07/07/2014  14/07/2014               0    334  961      0  \n",
       "2       31/12/2014  30/12/2014  03/01/2015               0      3  457      0  "
      ]
     },
     "execution_count": 63,
     "metadata": {},
     "output_type": "execute_result"
    }
   ],
   "source": [
    "file_name2 = \"archive/cox-violent-parsed.csv\"\n",
    "df2=pd.read_csv(file_name2)\n",
    "print(\"Shape: {0}\".format(df2.shape))\n",
    "df2.head(3)"
   ]
  },
  {
   "cell_type": "code",
   "execution_count": 50,
   "metadata": {},
   "outputs": [
    {
     "data": {
      "text/plain": [
       "Index(['id', 'name', 'first', 'last', 'sex', 'dob', 'age', 'age_cat', 'race',\n",
       "       'juv_fel_count', 'decile_score', 'juv_misd_count', 'juv_other_count',\n",
       "       'priors_count', 'days_b_screening_arrest', 'c_jail_in', 'c_jail_out',\n",
       "       'c_days_from_compas', 'c_charge_degree', 'c_charge_desc', 'is_recid',\n",
       "       'r_charge_degree', 'r_days_from_arrest', 'r_offense_date',\n",
       "       'r_charge_desc', 'r_jail_in', 'violent_recid', 'is_violent_recid',\n",
       "       'vr_charge_degree', 'vr_offense_date', 'vr_charge_desc',\n",
       "       'type_of_assessment', 'decile_score.1', 'score_text', 'screening_date',\n",
       "       'v_type_of_assessment', 'v_decile_score', 'v_score_text',\n",
       "       'priors_count.1', 'event'],\n",
       "      dtype='object')"
      ]
     },
     "execution_count": 50,
     "metadata": {},
     "output_type": "execute_result"
    }
   ],
   "source": [
    "df2.columns"
   ]
  },
  {
   "cell_type": "code",
   "execution_count": 44,
   "metadata": {},
   "outputs": [
    {
     "data": {
      "text/plain": [
       "id                         11001\n",
       "name                       10855\n",
       "first                       3876\n",
       "last                        5635\n",
       "compas_screening_date        703\n",
       "sex                            2\n",
       "dob                         7485\n",
       "age                           65\n",
       "age_cat                        3\n",
       "race                           6\n",
       "juv_fel_count                 12\n",
       "decile_score                  11\n",
       "juv_misd_count                11\n",
       "juv_other_count               12\n",
       "priors_count                  39\n",
       "days_b_screening_arrest      534\n",
       "c_jail_in                   9806\n",
       "c_jail_out                  8714\n",
       "c_case_number              10309\n",
       "c_offense_date              1025\n",
       "c_arrest_date                782\n",
       "c_days_from_compas           657\n",
       "c_charge_degree               14\n",
       "c_charge_desc                513\n",
       "is_recid                       3\n",
       "r_case_number               3473\n",
       "r_charge_degree               10\n",
       "r_days_from_arrest           201\n",
       "r_offense_date              1075\n",
       "r_charge_desc                341\n",
       "r_jail_in                    972\n",
       "r_jail_out                   938\n",
       "violent_recid                  0\n",
       "is_violent_recid               2\n",
       "vr_case_number               819\n",
       "vr_charge_degree               9\n",
       "vr_offense_date              570\n",
       "vr_charge_desc                83\n",
       "type_of_assessment             1\n",
       "decile_score.1                11\n",
       "score_text                     3\n",
       "screening_date               703\n",
       "v_type_of_assessment           1\n",
       "v_decile_score                11\n",
       "v_score_text                   3\n",
       "v_screening_date             703\n",
       "in_custody                  1237\n",
       "out_custody                 1253\n",
       "priors_count.1                39\n",
       "start                       1153\n",
       "end                         1178\n",
       "event                          2\n",
       "dtype: int64"
      ]
     },
     "execution_count": 44,
     "metadata": {},
     "output_type": "execute_result"
    }
   ],
   "source": [
    "df2.nunique(axis=0, dropna=True)"
   ]
  },
  {
   "cell_type": "code",
   "execution_count": null,
   "metadata": {},
   "outputs": [],
   "source": []
  }
 ],
 "metadata": {
  "kernelspec": {
   "display_name": "Python 3",
   "language": "python",
   "name": "python3"
  },
  "language_info": {
   "codemirror_mode": {
    "name": "ipython",
    "version": 3
   },
   "file_extension": ".py",
   "mimetype": "text/x-python",
   "name": "python",
   "nbconvert_exporter": "python",
   "pygments_lexer": "ipython3",
   "version": "3.6.5"
  }
 },
 "nbformat": 4,
 "nbformat_minor": 4
}
